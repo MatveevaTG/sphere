{
 "cells": [
  {
   "cell_type": "markdown",
   "metadata": {},
   "source": [
    "**Общая информация**\n",
    "\n",
    "**Срок сдачи:** 18 октября 2017, 06:00 <br\\>\n",
    "**Штраф за опоздание:** -2 балла после 06:00 18 октября, -4 балла после 06:00 25 октября, -6 баллов после 06:00 1 ноября\n",
    "\n",
    "При отправлении ДЗ указывайте фамилию в названии файла\n",
    "Присылать ДЗ необходимо в виде ссылки на свой github репозиторий в slack @alkhamush\n",
    "\n",
    "Необходимо в slack создать таск в приватный чат:\n",
    "/todo Фамилия Имя ссылка на гитхаб @alkhamush\n",
    "Пример:\n",
    "/todo Ксения Стройкова https://github.com/stroykova/spheremailru/stroykova_hw1.ipynb @alkhamush\n",
    "Дополнительно нужно просто скинуть ссылку в slack в личный чат\n",
    "\n",
    "Используйте данный Ipython Notebook при оформлении домашнего задания."
   ]
  },
  {
   "cell_type": "markdown",
   "metadata": {},
   "source": [
    "###### Задание 1 (2 баллов)\n",
    "Реализовать KNN в классе MyKNeighborsClassifier (обязательное условие: точность не ниже sklearn реализации)\n",
    "Разберитесь самостоятельно, какая мера расстояния используется в KNeighborsClassifier дефолтно и реализуйте свой алгоритм именно с этой мерой. Самостоятельно разберитесь, как считается score из KNeighborsClassifier и реализуйте аналог в своём классе. Score не должен уступать значению KNN из sklearn\n",
    "\n",
    "###### Задание 2 (2 балла)\n",
    "Добиться скорости работы на fit,  predict и predict_proba сравнимой со sklearn для iris и mnist\n",
    "Для этого используем numpy\n",
    "\n",
    "###### Задание 3 (2 балла)\n",
    "Для iris найдите такой параметр n_neighbors, при котором выдаётся наилучший score. Нарисуйте график зависимости score от n_neighbors\n",
    "\n",
    "###### Задание 4 (3 балла)\n",
    "Добавить algorithm='kd_tree' в реализацию KNN (использовать KDTree из sklearn.neighbors). Значение n_neighbors нужно взять из задания 3. Добиться скорости работы на fit,  predict и predict_proba сравнимой со sklearn для iris и mnist\n",
    "Для этого используем numpy. Score не должен уступать значению KNN из sklearn\n",
    "\n",
    "###### Задание 5 (1 балла)\n",
    "Описать для чего нужны следующие библиотеки/классы/функции (список будет ниже)\n",
    "\n",
    "**Штрафные баллы:**\n",
    "\n",
    "1. Невыполнение PEP8 -1 балл\n",
    "2. Отсутствие фамилии в имени скрипта (скрипт должен называться по аналогии со stroykova_hw1.ipynb) -1 балл\n",
    "3. Все строчки должны быть выполнены. Нужно, чтобы output команды можно было увидеть уже в git'е. В противном случае -1 балл\n",
    "4. При оформлении ДЗ нужно пользоваться данным файлом в качестве шаблона. Не нужно удалять и видоизменять структуру кода и текст. В противном случае -1 балл\n"
   ]
  },
  {
   "cell_type": "code",
   "execution_count": 106,
   "metadata": {},
   "outputs": [
    {
     "name": "stdout",
     "output_type": "stream",
     "text": [
      "The pycodestyle_magic extension is already loaded. To reload it, use:\n",
      "  %reload_ext pycodestyle_magic\n"
     ]
    }
   ],
   "source": [
    "import numpy as np\n",
    "import matplotlib.pyplot as plt\n",
    "\n",
    "import seaborn as sns\n",
    "from sklearn import datasets\n",
    "from sklearn.base import ClassifierMixin\n",
    "from sklearn.datasets import fetch_mldata\n",
    "from sklearn.neighbors.base import NeighborsBase, KNeighborsMixin, SupervisedIntegerMixin \n",
    "from sklearn.model_selection import train_test_split\n",
    "from sklearn.neighbors import KNeighborsClassifier\n",
    "%load_ext pycodestyle_magic"
   ]
  },
  {
   "cell_type": "code",
   "execution_count": 107,
   "metadata": {},
   "outputs": [],
   "source": [
    "from sklearn.metrics import pairwise_distances\n",
    "from sklearn.neighbors import KDTree"
   ]
  },
  {
   "cell_type": "code",
   "execution_count": 108,
   "metadata": {},
   "outputs": [],
   "source": [
    "#%%pycodestyle\n",
    "\n",
    "\n",
    "class MyKNeighborsClassifier(NeighborsBase, KNeighborsMixin,\n",
    "                             SupervisedIntegerMixin, ClassifierMixin):\n",
    "    def __init__(self, n_neighbors, algorithm='brute'):\n",
    "        self.n_neighbors = n_neighbors\n",
    "        self.algorithm = algorithm\n",
    "\n",
    "    def fit(self, X, y):\n",
    "        self.X_train = X\n",
    "        self.y_train = y\n",
    "        if self.algorithm == 'kd_tree':\n",
    "            self.tree = KDTree(X)\n",
    "\n",
    "    def predict(self, X):\n",
    "        if self.algorithm == 'kd_tree':\n",
    "            ind = self.tree.query(X, self.n_neighbors)[1]\n",
    "        else:\n",
    "            ind = np.argpartition(pairwise_distances(X, self.X_train),\n",
    "                                  self.n_neighbors)[:, :self.n_neighbors]\n",
    "        nearest_class = self.y_train[ind].astype(int)\n",
    "        return np.array(list(map(lambda x: np.argmax(np.bincount(x)),\n",
    "                                 nearest_class)))\n",
    "\n",
    "    def predict_proba(self, X):\n",
    "        if self.algorithm == 'kd_tree':\n",
    "            ind = self.tree.query(X, k=self.n_neighbors)[1]\n",
    "        else:\n",
    "            ind = np.argpartition(pairwise_distances(X, self.X_train),\n",
    "                                  self.n_neighbors)[:, :self.n_neighbors]\n",
    "        nearest_class = self.y_train[ind].astype(int)\n",
    "        s = len(set(self.y_train))\n",
    "        return np.array(list(map(lambda x: np.bincount(x, minlength=s),\n",
    "                                 nearest_class))) / self.n_neighbors\n",
    "\n",
    "    def score(self, X, y):\n",
    "        return (1 - len(np.nonzero(y-self.predict(X))[0]) / len(y))"
   ]
  },
  {
   "cell_type": "markdown",
   "metadata": {},
   "source": [
    "**IRIS**"
   ]
  },
  {
   "cell_type": "code",
   "execution_count": 133,
   "metadata": {},
   "outputs": [],
   "source": [
    "iris = datasets.load_iris()"
   ]
  },
  {
   "cell_type": "code",
   "execution_count": 134,
   "metadata": {},
   "outputs": [],
   "source": [
    "X_train, X_test, y_train, y_test = train_test_split(iris.data, iris.target, test_size=0.1, stratify=iris.target)"
   ]
  },
  {
   "cell_type": "code",
   "execution_count": 135,
   "metadata": {},
   "outputs": [],
   "source": [
    "clf = KNeighborsClassifier(n_neighbors=2, algorithm='brute')\n",
    "my_clf = MyKNeighborsClassifier(n_neighbors=2)"
   ]
  },
  {
   "cell_type": "code",
   "execution_count": 136,
   "metadata": {},
   "outputs": [
    {
     "name": "stdout",
     "output_type": "stream",
     "text": [
      "Wall time: 4 ms\n"
     ]
    },
    {
     "data": {
      "text/plain": [
       "KNeighborsClassifier(algorithm='brute', leaf_size=30, metric='minkowski',\n",
       "           metric_params=None, n_jobs=1, n_neighbors=2, p=2,\n",
       "           weights='uniform')"
      ]
     },
     "execution_count": 136,
     "metadata": {},
     "output_type": "execute_result"
    }
   ],
   "source": [
    "%time clf.fit(X_train, y_train)"
   ]
  },
  {
   "cell_type": "code",
   "execution_count": 137,
   "metadata": {},
   "outputs": [
    {
     "name": "stdout",
     "output_type": "stream",
     "text": [
      "Wall time: 0 ns\n"
     ]
    }
   ],
   "source": [
    "%time my_clf.fit(X_train, y_train)"
   ]
  },
  {
   "cell_type": "code",
   "execution_count": 138,
   "metadata": {},
   "outputs": [
    {
     "name": "stdout",
     "output_type": "stream",
     "text": [
      "Wall time: 1.16 s\n"
     ]
    }
   ],
   "source": [
    "%time for i in range(1000): clf.predict(X_test)"
   ]
  },
  {
   "cell_type": "code",
   "execution_count": 139,
   "metadata": {},
   "outputs": [
    {
     "name": "stdout",
     "output_type": "stream",
     "text": [
      "Wall time: 735 ms\n"
     ]
    }
   ],
   "source": [
    "%time for i in range(1000): my_clf.predict(X_test)"
   ]
  },
  {
   "cell_type": "code",
   "execution_count": 140,
   "metadata": {},
   "outputs": [
    {
     "name": "stdout",
     "output_type": "stream",
     "text": [
      "Wall time: 4 ms\n"
     ]
    },
    {
     "data": {
      "text/plain": [
       "array([[0., 1., 0.],\n",
       "       [0., 0., 1.],\n",
       "       [0., 1., 0.],\n",
       "       [0., 1., 0.],\n",
       "       [0., 0., 1.],\n",
       "       [1., 0., 0.],\n",
       "       [0., 1., 0.],\n",
       "       [0., 0., 1.],\n",
       "       [1., 0., 0.],\n",
       "       [1., 0., 0.],\n",
       "       [0., 1., 0.],\n",
       "       [0., 0., 1.],\n",
       "       [1., 0., 0.],\n",
       "       [0., 1., 0.],\n",
       "       [1., 0., 0.]])"
      ]
     },
     "execution_count": 140,
     "metadata": {},
     "output_type": "execute_result"
    }
   ],
   "source": [
    "%time clf.predict_proba(X_test)"
   ]
  },
  {
   "cell_type": "code",
   "execution_count": 141,
   "metadata": {},
   "outputs": [
    {
     "name": "stdout",
     "output_type": "stream",
     "text": [
      "Wall time: 3.99 ms\n"
     ]
    },
    {
     "data": {
      "text/plain": [
       "array([[0., 1., 0.],\n",
       "       [0., 0., 1.],\n",
       "       [0., 1., 0.],\n",
       "       [0., 1., 0.],\n",
       "       [0., 0., 1.],\n",
       "       [1., 0., 0.],\n",
       "       [0., 1., 0.],\n",
       "       [0., 0., 1.],\n",
       "       [1., 0., 0.],\n",
       "       [1., 0., 0.],\n",
       "       [0., 1., 0.],\n",
       "       [0., 0., 1.],\n",
       "       [1., 0., 0.],\n",
       "       [0., 1., 0.],\n",
       "       [1., 0., 0.]])"
      ]
     },
     "execution_count": 141,
     "metadata": {},
     "output_type": "execute_result"
    }
   ],
   "source": [
    "%time my_clf.predict_proba(X_test)"
   ]
  },
  {
   "cell_type": "code",
   "execution_count": 142,
   "metadata": {},
   "outputs": [
    {
     "data": {
      "text/plain": [
       "0.9333333333333333"
      ]
     },
     "execution_count": 142,
     "metadata": {},
     "output_type": "execute_result"
    }
   ],
   "source": [
    "clf.score(X_test, y_test)"
   ]
  },
  {
   "cell_type": "code",
   "execution_count": 143,
   "metadata": {},
   "outputs": [
    {
     "data": {
      "text/plain": [
       "0.9333333333333333"
      ]
     },
     "execution_count": 143,
     "metadata": {},
     "output_type": "execute_result"
    }
   ],
   "source": [
    "my_clf.score(X_test, y_test)"
   ]
  },
  {
   "cell_type": "markdown",
   "metadata": {},
   "source": [
    "Задание 3"
   ]
  },
  {
   "cell_type": "code",
   "execution_count": 144,
   "metadata": {},
   "outputs": [
    {
     "data": {
      "text/plain": [
       "[<matplotlib.lines.Line2D at 0xd30209a080>]"
      ]
     },
     "execution_count": 144,
     "metadata": {},
     "output_type": "execute_result"
    },
    {
     "data": {
      "image/png": "[encoded data removed]",
      "text/plain": [
       "<Figure size 432x288 with 1 Axes>"
      ]
     },
     "metadata": {},
     "output_type": "display_data"
    }
   ],
   "source": [
    "#%%pycodestyle\n",
    "score_list = []\n",
    "for i in range(1, 10):\n",
    "    my_clf = MyKNeighborsClassifier(n_neighbors=i)\n",
    "    my_clf.fit(X_train, y_train)\n",
    "    score_list.append(my_clf.score(X_test, y_test))\n",
    "plt.plot(range(1, 10), score_list)"
   ]
  },
  {
   "cell_type": "markdown",
   "metadata": {},
   "source": [
    "**MNIST**"
   ]
  },
  {
   "cell_type": "code",
   "execution_count": 145,
   "metadata": {},
   "outputs": [],
   "source": [
    "mnist = fetch_mldata('MNIST original')"
   ]
  },
  {
   "cell_type": "code",
   "execution_count": 146,
   "metadata": {},
   "outputs": [],
   "source": [
    "X_train, X_test, y_train, y_test = train_test_split(mnist.data, mnist.target, test_size=0.01, stratify=mnist.target)"
   ]
  },
  {
   "cell_type": "code",
   "execution_count": 147,
   "metadata": {},
   "outputs": [],
   "source": [
    "clf = KNeighborsClassifier(n_neighbors=2, algorithm='brute')\n",
    "my_clf = MyKNeighborsClassifier(n_neighbors=2)"
   ]
  },
  {
   "cell_type": "code",
   "execution_count": 148,
   "metadata": {},
   "outputs": [
    {
     "name": "stdout",
     "output_type": "stream",
     "text": [
      "Wall time: 15.6 ms\n"
     ]
    },
    {
     "data": {
      "text/plain": [
       "KNeighborsClassifier(algorithm='brute', leaf_size=30, metric='minkowski',\n",
       "           metric_params=None, n_jobs=1, n_neighbors=2, p=2,\n",
       "           weights='uniform')"
      ]
     },
     "execution_count": 148,
     "metadata": {},
     "output_type": "execute_result"
    }
   ],
   "source": [
    "%time clf.fit(X_train, y_train)"
   ]
  },
  {
   "cell_type": "code",
   "execution_count": 149,
   "metadata": {},
   "outputs": [
    {
     "name": "stdout",
     "output_type": "stream",
     "text": [
      "Wall time: 0 ns\n"
     ]
    }
   ],
   "source": [
    "%time my_clf.fit(X_train, y_train)"
   ]
  },
  {
   "cell_type": "code",
   "execution_count": 150,
   "metadata": {},
   "outputs": [
    {
     "name": "stdout",
     "output_type": "stream",
     "text": [
      "Wall time: 1.22 s\n"
     ]
    },
    {
     "data": {
      "text/plain": [
       "array([5., 1., 5., 8., 2., 6., 6., 1., 7., 2., 3., 7., 4., 1., 4.])"
      ]
     },
     "execution_count": 150,
     "metadata": {},
     "output_type": "execute_result"
    }
   ],
   "source": [
    "%time clf.predict(X_test[:15])"
   ]
  },
  {
   "cell_type": "code",
   "execution_count": 151,
   "metadata": {},
   "outputs": [
    {
     "name": "stdout",
     "output_type": "stream",
     "text": [
      "Wall time: 1.26 s\n"
     ]
    },
    {
     "data": {
      "text/plain": [
       "array([5, 1, 5, 8, 2, 6, 6, 1, 7, 2, 3, 7, 4, 1, 4], dtype=int64)"
      ]
     },
     "execution_count": 151,
     "metadata": {},
     "output_type": "execute_result"
    }
   ],
   "source": [
    "%time my_clf.predict(X_test[:15])"
   ]
  },
  {
   "cell_type": "code",
   "execution_count": 152,
   "metadata": {},
   "outputs": [
    {
     "name": "stdout",
     "output_type": "stream",
     "text": [
      "Wall time: 11.3 s\n"
     ]
    },
    {
     "data": {
      "text/plain": [
       "array([[0., 0., 0., ..., 0., 0., 0.],\n",
       "       [0., 1., 0., ..., 0., 0., 0.],\n",
       "       [0., 0., 0., ..., 0., 0., 0.],\n",
       "       ...,\n",
       "       [0., 0., 0., ..., 0., 0., 0.],\n",
       "       [0., 0., 0., ..., 0., 0., 0.],\n",
       "       [1., 0., 0., ..., 0., 0., 0.]])"
      ]
     },
     "execution_count": 152,
     "metadata": {},
     "output_type": "execute_result"
    }
   ],
   "source": [
    "%time clf.predict_proba(X_test)"
   ]
  },
  {
   "cell_type": "code",
   "execution_count": 153,
   "metadata": {},
   "outputs": [
    {
     "name": "stdout",
     "output_type": "stream",
     "text": [
      "Wall time: 12.9 s\n"
     ]
    },
    {
     "data": {
      "text/plain": [
       "array([[0., 0., 0., ..., 0., 0., 0.],\n",
       "       [0., 1., 0., ..., 0., 0., 0.],\n",
       "       [0., 0., 0., ..., 0., 0., 0.],\n",
       "       ...,\n",
       "       [0., 0., 0., ..., 0., 0., 0.],\n",
       "       [0., 0., 0., ..., 0., 0., 0.],\n",
       "       [1., 0., 0., ..., 0., 0., 0.]])"
      ]
     },
     "execution_count": 153,
     "metadata": {},
     "output_type": "execute_result"
    }
   ],
   "source": [
    "%time my_clf.predict_proba(X_test)"
   ]
  },
  {
   "cell_type": "code",
   "execution_count": 154,
   "metadata": {},
   "outputs": [
    {
     "data": {
      "text/plain": [
       "0.9614285714285714"
      ]
     },
     "execution_count": 154,
     "metadata": {},
     "output_type": "execute_result"
    }
   ],
   "source": [
    "clf.score(X_test, y_test)"
   ]
  },
  {
   "cell_type": "code",
   "execution_count": 155,
   "metadata": {},
   "outputs": [
    {
     "data": {
      "text/plain": [
       "0.9614285714285714"
      ]
     },
     "execution_count": 155,
     "metadata": {},
     "output_type": "execute_result"
    }
   ],
   "source": [
    "my_clf.score(X_test, y_test)"
   ]
  },
  {
   "cell_type": "markdown",
   "metadata": {},
   "source": [
    "Задание 4"
   ]
  },
  {
   "cell_type": "code",
   "execution_count": 156,
   "metadata": {},
   "outputs": [],
   "source": [
    "clf = KNeighborsClassifier(n_neighbors=7, algorithm='kd_tree')\n",
    "my_clf = MyKNeighborsClassifier(n_neighbors=7, algorithm='kd_tree')"
   ]
  },
  {
   "cell_type": "code",
   "execution_count": 157,
   "metadata": {},
   "outputs": [],
   "source": [
    "X_train, X_test, y_train, y_test = train_test_split(mnist.data, mnist.target, test_size=0.01, stratify=mnist.target)"
   ]
  },
  {
   "cell_type": "code",
   "execution_count": 158,
   "metadata": {},
   "outputs": [
    {
     "name": "stdout",
     "output_type": "stream",
     "text": [
      "Wall time: 2min 18s\n"
     ]
    },
    {
     "data": {
      "text/plain": [
       "KNeighborsClassifier(algorithm='kd_tree', leaf_size=30, metric='minkowski',\n",
       "           metric_params=None, n_jobs=1, n_neighbors=7, p=2,\n",
       "           weights='uniform')"
      ]
     },
     "execution_count": 158,
     "metadata": {},
     "output_type": "execute_result"
    }
   ],
   "source": [
    "%time clf.fit(X_train, y_train)"
   ]
  },
  {
   "cell_type": "code",
   "execution_count": 159,
   "metadata": {},
   "outputs": [
    {
     "name": "stdout",
     "output_type": "stream",
     "text": [
      "Wall time: 2min 25s\n"
     ]
    }
   ],
   "source": [
    "%time my_clf.fit(X_train, y_train)"
   ]
  },
  {
   "cell_type": "code",
   "execution_count": 160,
   "metadata": {},
   "outputs": [
    {
     "name": "stdout",
     "output_type": "stream",
     "text": [
      "Wall time: 3min 3s\n"
     ]
    },
    {
     "data": {
      "text/plain": [
       "array([4., 9., 1., 4., 6., 7., 2., 6., 1., 9., 3., 1., 1., 8., 5., 0., 6.,\n",
       "       3., 0., 0., 1., 6., 2., 0., 7., 5., 2., 1., 5., 3., 7., 9., 3., 5.,\n",
       "       2., 8., 2., 3., 2., 9., 8., 2., 1., 3., 1., 7., 1., 0., 7., 9., 1.,\n",
       "       9., 3., 6., 7., 8., 3., 7., 5., 2., 7., 8., 1., 1., 3., 5., 2., 3.,\n",
       "       8., 7., 2., 8., 5., 8., 2., 3., 8., 3., 4., 9., 6., 6., 0., 6., 3.,\n",
       "       0., 9., 6., 0., 5., 5., 1., 7., 5., 3., 7., 6., 2., 8., 8., 6., 6.,\n",
       "       3., 0., 6., 2., 3., 8., 0., 9., 1., 7., 8., 7., 2., 8., 0., 6., 4.,\n",
       "       3., 2., 8., 9., 1., 3., 4., 9., 5., 7., 2., 2., 2., 8., 4., 5., 9.,\n",
       "       3., 0., 4., 2., 0., 3., 1., 3., 8., 4., 5., 8., 7., 6., 9., 7., 7.,\n",
       "       1., 4., 1., 2., 6., 5., 0., 1., 6., 8., 3., 4., 5., 7., 7., 5., 0.,\n",
       "       7., 5., 5., 0., 3., 1., 6., 7., 4., 5., 3., 4., 9., 3., 7., 6., 2.,\n",
       "       8., 3., 2., 1., 5., 1., 4., 9., 6., 7., 5., 0., 1., 1., 1., 8., 3.,\n",
       "       1., 7., 1., 0., 8., 1., 8., 3., 0., 3., 0., 8., 4., 2., 4., 0., 4.,\n",
       "       5., 2., 0., 0., 6., 9., 4., 7., 7., 8., 4., 1., 9., 0., 9., 0., 0.,\n",
       "       6., 5., 1., 6., 3., 5., 1., 1., 4., 2., 3., 3., 8., 9., 1., 5., 0.,\n",
       "       9., 9., 8., 1., 4., 0., 0., 2., 5., 4., 4., 3., 7., 8., 5., 9., 8.,\n",
       "       9., 7., 0., 9., 7., 9., 2., 4., 9., 2., 0., 1., 8., 6., 6., 7., 8.,\n",
       "       2., 7., 8., 5., 2., 1., 0., 6., 7., 2., 4., 1., 2., 4., 5., 1., 8.,\n",
       "       2., 4., 9., 9., 5., 4., 4., 0., 6., 9., 1., 1., 3., 3., 7., 4., 5.,\n",
       "       5., 9., 6., 3., 0., 5., 3., 4., 2., 9., 5., 1., 0., 3., 0., 4., 2.,\n",
       "       8., 6., 1., 8., 1., 5., 5., 6., 7., 5., 9., 5., 3., 6., 4., 5., 8.,\n",
       "       6., 0., 2., 9., 6., 1., 2., 3., 9., 6., 2., 1., 2., 6., 7., 6., 5.,\n",
       "       7., 4., 9., 7., 2., 2., 8., 0., 7., 2., 1., 2., 1., 0., 7., 6., 7.,\n",
       "       5., 9., 3., 8., 2., 8., 2., 0., 9., 9., 4., 2., 7., 9., 1., 6., 6.,\n",
       "       2., 6., 6., 1., 6., 9., 3., 7., 9., 0., 1., 1., 1., 0., 8., 3., 7.,\n",
       "       9., 8., 2., 6., 9., 6., 0., 9., 9., 8., 1., 3., 2., 9., 9., 6., 7.,\n",
       "       2., 9., 0., 8., 4., 1., 3., 9., 9., 7., 5., 7., 4., 7., 1., 9., 6.,\n",
       "       4., 0., 0., 6., 3., 4., 6., 2., 4., 8., 5., 7., 1., 1., 7., 9., 7.,\n",
       "       8., 2., 1., 4., 8., 8., 4., 2., 7., 3., 2., 1., 5., 4., 3., 3., 7.,\n",
       "       8., 1., 7., 4., 7., 4., 8., 6., 6., 0., 2., 5., 0., 2., 1., 1., 7.,\n",
       "       3., 1., 5., 9., 8., 8., 9., 3., 1., 6., 2., 1., 5., 0., 6., 9., 4.,\n",
       "       4., 0., 6., 8., 9., 2., 5., 5., 4., 5., 5., 2., 2., 2., 8., 6., 0.,\n",
       "       1., 4., 4., 1., 3., 3., 6., 6., 8., 5., 8., 8., 6., 1., 7., 4., 3.,\n",
       "       9., 7., 0., 8., 1., 1., 4., 5., 3., 6., 5., 1., 9., 1., 7., 8., 7.,\n",
       "       8., 3., 0., 7., 3., 1., 6., 7., 4., 2., 2., 9., 0., 4., 6., 7., 6.,\n",
       "       2., 7., 7., 9., 9., 0., 0., 6., 1., 1., 9., 6., 9., 5., 4., 5., 0.,\n",
       "       6., 4., 1., 2., 0., 2., 6., 5., 4., 0., 0., 9., 4., 8., 2., 6., 4.,\n",
       "       5., 9., 7., 4., 9., 3., 9., 8., 1., 4., 9., 1., 0., 8., 9., 2., 8.,\n",
       "       3., 7., 0., 9., 0., 4., 6., 3., 5., 1., 3., 0., 7., 7., 9., 8., 3.,\n",
       "       7., 1., 5., 9., 0., 6., 3., 9., 1., 0., 5., 8., 0., 4., 7., 7., 6.,\n",
       "       6., 5., 5., 9., 8., 2., 7., 9., 7., 4., 0., 2., 3., 3., 3., 3., 5.,\n",
       "       0., 2., 8.])"
      ]
     },
     "execution_count": 160,
     "metadata": {},
     "output_type": "execute_result"
    }
   ],
   "source": [
    "%time clf.predict(X_test)"
   ]
  },
  {
   "cell_type": "code",
   "execution_count": 161,
   "metadata": {},
   "outputs": [
    {
     "name": "stdout",
     "output_type": "stream",
     "text": [
      "Wall time: 2min 23s\n"
     ]
    },
    {
     "data": {
      "text/plain": [
       "array([4, 9, 1, 4, 6, 7, 2, 6, 1, 9, 3, 1, 1, 8, 5, 0, 6, 3, 0, 0, 1, 6,\n",
       "       2, 0, 7, 5, 2, 1, 5, 3, 7, 9, 3, 5, 2, 8, 2, 3, 2, 9, 8, 2, 1, 3,\n",
       "       1, 7, 1, 0, 7, 9, 1, 9, 3, 6, 7, 8, 3, 7, 5, 2, 7, 8, 1, 1, 3, 5,\n",
       "       2, 3, 8, 7, 2, 8, 5, 8, 2, 3, 8, 3, 4, 9, 6, 6, 0, 6, 3, 0, 9, 6,\n",
       "       0, 5, 5, 1, 7, 5, 3, 7, 6, 2, 8, 8, 6, 6, 3, 0, 6, 2, 3, 8, 0, 9,\n",
       "       1, 7, 8, 7, 2, 8, 0, 6, 4, 3, 2, 8, 9, 1, 3, 4, 9, 5, 7, 2, 2, 2,\n",
       "       8, 4, 5, 9, 3, 0, 4, 2, 0, 3, 1, 3, 8, 4, 5, 8, 7, 6, 9, 7, 7, 1,\n",
       "       4, 1, 2, 6, 5, 0, 1, 6, 8, 3, 4, 5, 7, 7, 5, 0, 7, 5, 5, 0, 3, 1,\n",
       "       6, 7, 4, 5, 3, 4, 9, 3, 7, 6, 2, 8, 3, 2, 1, 5, 1, 4, 9, 6, 7, 5,\n",
       "       0, 1, 1, 1, 8, 3, 1, 7, 1, 0, 8, 1, 8, 3, 0, 3, 0, 8, 4, 2, 4, 0,\n",
       "       4, 5, 2, 0, 0, 6, 9, 4, 7, 7, 8, 4, 1, 9, 0, 9, 0, 0, 6, 5, 1, 6,\n",
       "       3, 5, 1, 1, 4, 2, 3, 3, 8, 9, 1, 5, 0, 9, 9, 8, 1, 4, 0, 0, 2, 5,\n",
       "       4, 4, 3, 7, 8, 5, 9, 8, 9, 7, 0, 9, 7, 9, 2, 4, 9, 2, 0, 1, 8, 6,\n",
       "       6, 7, 8, 2, 7, 8, 5, 2, 1, 0, 6, 7, 2, 4, 1, 2, 4, 5, 1, 8, 2, 4,\n",
       "       9, 9, 5, 4, 4, 0, 6, 9, 1, 1, 3, 3, 7, 4, 5, 5, 9, 6, 3, 0, 5, 3,\n",
       "       4, 2, 9, 5, 1, 0, 3, 0, 4, 2, 8, 6, 1, 8, 1, 5, 5, 6, 7, 5, 9, 5,\n",
       "       3, 6, 4, 5, 8, 6, 0, 2, 9, 6, 1, 2, 3, 9, 6, 2, 1, 2, 6, 7, 6, 5,\n",
       "       7, 4, 9, 7, 2, 2, 8, 0, 7, 2, 1, 2, 1, 0, 7, 6, 7, 5, 9, 3, 8, 2,\n",
       "       8, 2, 0, 9, 9, 4, 2, 7, 9, 1, 6, 6, 2, 6, 6, 1, 6, 9, 3, 7, 9, 0,\n",
       "       1, 1, 1, 0, 8, 3, 7, 9, 8, 2, 6, 9, 6, 0, 9, 9, 8, 1, 3, 2, 9, 9,\n",
       "       6, 7, 2, 9, 0, 8, 4, 1, 3, 9, 9, 7, 5, 7, 4, 7, 1, 9, 6, 4, 0, 0,\n",
       "       6, 3, 4, 6, 2, 4, 8, 5, 7, 1, 1, 7, 9, 7, 8, 2, 1, 4, 8, 8, 4, 2,\n",
       "       7, 3, 2, 1, 5, 4, 3, 3, 7, 8, 1, 7, 4, 7, 4, 8, 6, 6, 0, 2, 5, 0,\n",
       "       2, 1, 1, 7, 3, 1, 5, 9, 8, 8, 9, 3, 1, 6, 2, 1, 5, 0, 6, 9, 4, 4,\n",
       "       0, 6, 8, 9, 2, 5, 5, 4, 5, 5, 2, 2, 2, 8, 6, 0, 1, 4, 4, 1, 3, 3,\n",
       "       6, 6, 8, 5, 8, 8, 6, 1, 7, 4, 3, 9, 7, 0, 8, 1, 1, 4, 5, 3, 6, 5,\n",
       "       1, 9, 1, 7, 8, 7, 8, 3, 0, 7, 3, 1, 6, 7, 4, 2, 2, 9, 0, 4, 6, 7,\n",
       "       6, 2, 7, 7, 9, 9, 0, 0, 6, 1, 1, 9, 6, 9, 5, 4, 5, 0, 6, 4, 1, 2,\n",
       "       0, 2, 6, 5, 4, 0, 0, 9, 4, 8, 2, 6, 4, 5, 9, 7, 4, 9, 3, 9, 8, 1,\n",
       "       4, 9, 1, 0, 8, 9, 2, 8, 3, 7, 0, 9, 0, 4, 6, 3, 5, 1, 3, 0, 7, 7,\n",
       "       9, 8, 3, 7, 1, 5, 9, 0, 6, 3, 9, 1, 0, 5, 8, 0, 4, 7, 7, 6, 6, 5,\n",
       "       5, 9, 8, 2, 7, 9, 7, 4, 0, 2, 3, 3, 3, 3, 5, 0, 2, 8], dtype=int64)"
      ]
     },
     "execution_count": 161,
     "metadata": {},
     "output_type": "execute_result"
    }
   ],
   "source": [
    "%time my_clf.predict(X_test)"
   ]
  },
  {
   "cell_type": "code",
   "execution_count": 162,
   "metadata": {},
   "outputs": [
    {
     "name": "stdout",
     "output_type": "stream",
     "text": [
      "Wall time: 2min 49s\n"
     ]
    },
    {
     "data": {
      "text/plain": [
       "array([[0., 0., 0., ..., 0., 0., 0.],\n",
       "       [0., 0., 0., ..., 0., 0., 1.],\n",
       "       [0., 1., 0., ..., 0., 0., 0.],\n",
       "       ...,\n",
       "       [1., 0., 0., ..., 0., 0., 0.],\n",
       "       [0., 0., 1., ..., 0., 0., 0.],\n",
       "       [0., 0., 0., ..., 0., 1., 0.]])"
      ]
     },
     "execution_count": 162,
     "metadata": {},
     "output_type": "execute_result"
    }
   ],
   "source": [
    "%time clf.predict_proba(X_test)"
   ]
  },
  {
   "cell_type": "code",
   "execution_count": 163,
   "metadata": {},
   "outputs": [
    {
     "name": "stdout",
     "output_type": "stream",
     "text": [
      "Wall time: 2min 16s\n"
     ]
    },
    {
     "data": {
      "text/plain": [
       "array([[0., 0., 0., ..., 0., 0., 0.],\n",
       "       [0., 0., 0., ..., 0., 0., 1.],\n",
       "       [0., 1., 0., ..., 0., 0., 0.],\n",
       "       ...,\n",
       "       [1., 0., 0., ..., 0., 0., 0.],\n",
       "       [0., 0., 1., ..., 0., 0., 0.],\n",
       "       [0., 0., 0., ..., 0., 1., 0.]])"
      ]
     },
     "execution_count": 163,
     "metadata": {},
     "output_type": "execute_result"
    }
   ],
   "source": [
    "%time my_clf.predict_proba(X_test)"
   ]
  },
  {
   "cell_type": "code",
   "execution_count": 164,
   "metadata": {},
   "outputs": [
    {
     "data": {
      "text/plain": [
       "0.9785714285714285"
      ]
     },
     "execution_count": 164,
     "metadata": {},
     "output_type": "execute_result"
    }
   ],
   "source": [
    "clf.score(X_test, y_test)"
   ]
  },
  {
   "cell_type": "code",
   "execution_count": 165,
   "metadata": {},
   "outputs": [
    {
     "data": {
      "text/plain": [
       "0.9785714285714285"
      ]
     },
     "execution_count": 165,
     "metadata": {},
     "output_type": "execute_result"
    }
   ],
   "source": [
    "my_clf.score(X_test, y_test)"
   ]
  },
  {
   "cell_type": "markdown",
   "metadata": {},
   "source": [
    "Задание 5"
   ]
  },
  {
   "cell_type": "code",
   "execution_count": null,
   "metadata": {},
   "outputs": [],
   "source": [
    "# seaborn\n",
    "# используется для визуального анализа данных\n",
    "# matplotlib\n",
    "# используется для визуального анализа данных\n",
    "# train_test_split\n",
    "# используется для разделения выборки на обучающую и тестовую\n",
    "# Pipelin%load_ext e (from sklearn.pipeline import Pipeline)\n",
    "# позволяет выполнить последовательные действия\n",
    "# StandardScaler (from sklearn.preprocessing import StandardScaler)\n",
    "# используется для стандартизации данных (после которой каждый признак имеет среднее 0 и дисперсию 1)\n",
    "# ClassifierMixin\n",
    "# используется для подсчета точности\n",
    "# NeighborsBase\n",
    "# базовый классификатор для KNN\n",
    "# KNeighborsMixin\n",
    "# используется для поиска соседей \n",
    "# SupervisedIntegerMixin\n",
    "# описывает метод fit для различных моделей"
   ]
  }
 ],
 "metadata": {
  "kernelspec": {
   "display_name": "Python 3",
   "language": "python",
   "name": "python3"
  },
  "language_info": {
   "codemirror_mode": {
    "name": "ipython",
    "version": 3
   },
   "file_extension": ".py",
   "mimetype": "text/x-python",
   "name": "python",
   "nbconvert_exporter": "python",
   "pygments_lexer": "ipython3",
   "version": "3.6.5"
  }
 },
 "nbformat": 4,
 "nbformat_minor": 2
}
